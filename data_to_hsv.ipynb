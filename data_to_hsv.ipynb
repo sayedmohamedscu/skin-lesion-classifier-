{
  "nbformat": 4,
  "nbformat_minor": 0,
  "metadata": {
    "colab": {
      "name": "data to hsv.ipynb",
      "version": "0.3.2",
      "provenance": [],
      "include_colab_link": true
    },
    "kernelspec": {
      "name": "python3",
      "display_name": "Python 3"
    },
    "accelerator": "GPU"
  },
  "cells": [
    {
      "cell_type": "markdown",
      "metadata": {
        "id": "view-in-github",
        "colab_type": "text"
      },
      "source": [
        "<a href=\"https://colab.research.google.com/github/sayedmohamedscu/skin-lesion-classifier-/blob/master/data_to_hsv.ipynb\" target=\"_parent\"><img src=\"https://colab.research.google.com/assets/colab-badge.svg\" alt=\"Open In Colab\"/></a>"
      ]
    },
    {
      "cell_type": "code",
      "metadata": {
        "id": "pr5a4z__HoOc",
        "colab_type": "code",
        "colab": {}
      },
      "source": [
        "import cv2\n",
        "import numpy as np \n",
        "import os"
      ],
      "execution_count": 0,
      "outputs": []
    },
    {
      "cell_type": "code",
      "metadata": {
        "id": "OE9CX0laH30b",
        "colab_type": "code",
        "colab": {}
      },
      "source": [
        "all_images_dir='/content/hsv_train'\n",
        "os.mkdir(all_images_dir)\n",
        "all_images_dir='/content/hsv_train/vasc'\n",
        "os.mkdir(all_images_dir)\n",
        "all_images_dir='/content/hsv_train/bkl'\n",
        "os.mkdir(all_images_dir)\n",
        "all_images_dir='/content/hsv_train/df'\n",
        "os.mkdir(all_images_dir)\n",
        "all_images_dir='/content/hsv_train/bcc'\n",
        "os.mkdir(all_images_dir)\n",
        "all_images_dir='/content/hsv_train/akiec'\n",
        "os.mkdir(all_images_dir)\n",
        "all_images_dir='/content/hsv_train/mel'\n",
        "os.mkdir(all_images_dir)\n",
        "all_images_dir='/content/hsv_train/nv'\n",
        "os.mkdir(all_images_dir)"
      ],
      "execution_count": 0,
      "outputs": []
    },
    {
      "cell_type": "code",
      "metadata": {
        "id": "-UojE7y2IRXa",
        "colab_type": "code",
        "colab": {}
      },
      "source": [
        "all_images_dir='/content/hsv_test'\n",
        "os.mkdir(all_images_dir)\n",
        "all_images_dir='/content/hsv_test/vasc'\n",
        "os.mkdir(all_images_dir)\n",
        "all_images_dir='/content/hsv_test/bkl'\n",
        "os.mkdir(all_images_dir)\n",
        "all_images_dir='/content/hsv_test/df'\n",
        "os.mkdir(all_images_dir)\n",
        "all_images_dir='/content/hsv_test/bcc'\n",
        "os.mkdir(all_images_dir)\n",
        "all_images_dir='/content/hsv_test/akiec'\n",
        "os.mkdir(all_images_dir)\n",
        "all_images_dir='/content/hsv_test/mel'\n",
        "os.mkdir(all_images_dir)\n",
        "all_images_dir='/content/hsv_test/nv'\n",
        "os.mkdir(all_images_dir)"
      ],
      "execution_count": 0,
      "outputs": []
    },
    {
      "cell_type": "markdown",
      "metadata": {
        "id": "NHrBPUkMCo6v",
        "colab_type": "text"
      },
      "source": [
        "# Use OpenCV library to convert to any colorspace"
      ]
    },
    {
      "cell_type": "code",
      "metadata": {
        "id": "kwToj_MfIgSL",
        "colab_type": "code",
        "colab": {}
      },
      "source": [
        "\n",
        "\n",
        "for file_name in os.listdir('/content/train'):\n",
        "    \n",
        "    \n",
        "    \n",
        "        \n",
        "        #direc=os.listdir('/content/dataset2/'+file_name)\n",
        "        \n",
        "        for im in os.listdir('/content/train/'+file_name):\n",
        "            img=cv2.imread('/content/train/'+file_name+'/'+im)  \n",
        "            img = cv2.cvtColor(img,cv2.COLOR_BGR2HSV)\n",
        "            out='/content/hsv_train/'+file_name+'/'+im\n",
        "            cv2.imwrite(out,img)\n",
        "for file_name in os.listdir('/content/test'):\n",
        "    \n",
        "    \n",
        "    \n",
        "        \n",
        "        #direc=os.listdir('/content/dataset2/'+file_name)\n",
        "        \n",
        "        for im in os.listdir('/content/test/'+file_name):\n",
        "            img=cv2.imread('/content/test/'+file_name+'/'+im)  \n",
        "            img = cv2.cvtColor(img,cv2.COLOR_BGR2HSV)\n",
        "            out='/content/hsv_test/'+file_name+'/'+im\n",
        "            cv2.imwrite(out,img)\n",
        "\n",
        "            "
      ],
      "execution_count": 0,
      "outputs": []
    }
  ]
}